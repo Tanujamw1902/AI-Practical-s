{
 "cells": [
  {
   "cell_type": "code",
   "execution_count": 5,
   "id": "c5c68ed0",
   "metadata": {},
   "outputs": [
    {
     "name": "stdout",
     "output_type": "stream",
     "text": [
      "Enter number of nodes: 6\n",
      "Enter number of edges for node 1: 2\n",
      "Enter edge 1 for node 1: 1 4 7\n",
      "Enter edge 2 for node 1: 1 2 8\n",
      "Enter number of edges for node 2: 1\n",
      "Enter edge 1 for node 2: 2 4 3\n",
      "Enter number of edges for node 3: 2\n",
      "Enter edge 1 for node 3: 3 2 6\n",
      "Enter edge 2 for node 3: 3 6 5\n",
      "Enter number of edges for node 4: 3\n",
      "Enter edge 1 for node 4: 4 6 4\n",
      "Enter edge 2 for node 4: 4 5 2\n",
      "Enter edge 3 for node 4: 4 3 5\n",
      "Enter number of edges for node 5: 1\n",
      "Enter edge 1 for node 5: 5 3 2\n",
      "Enter number of edges for node 6: 1\n",
      "Enter edge 1 for node 6: 6 5 3\n"
     ]
    },
    {
     "ename": "IndexError",
     "evalue": "list index out of range",
     "output_type": "error",
     "traceback": [
      "\u001b[1;31m---------------------------------------------------------------------------\u001b[0m",
      "\u001b[1;31mIndexError\u001b[0m                                Traceback (most recent call last)",
      "Cell \u001b[1;32mIn[5], line 63\u001b[0m\n\u001b[0;32m     60\u001b[0m         edge \u001b[38;5;241m=\u001b[39m \u001b[38;5;28minput\u001b[39m(\u001b[38;5;124mf\u001b[39m\u001b[38;5;124m\"\u001b[39m\u001b[38;5;124mEnter edge \u001b[39m\u001b[38;5;132;01m{\u001b[39;00mj\u001b[38;5;241m+\u001b[39m\u001b[38;5;241m1\u001b[39m\u001b[38;5;132;01m}\u001b[39;00m\u001b[38;5;124m for node \u001b[39m\u001b[38;5;132;01m{\u001b[39;00mi\u001b[38;5;241m+\u001b[39m\u001b[38;5;241m1\u001b[39m\u001b[38;5;132;01m}\u001b[39;00m\u001b[38;5;124m: \u001b[39m\u001b[38;5;124m\"\u001b[39m)\u001b[38;5;241m.\u001b[39msplit()\n\u001b[0;32m     61\u001b[0m         mst\u001b[38;5;241m.\u001b[39madd_edge(i, \u001b[38;5;28mint\u001b[39m(edge[\u001b[38;5;241m0\u001b[39m])\u001b[38;5;241m-\u001b[39m\u001b[38;5;241m1\u001b[39m, \u001b[38;5;28mint\u001b[39m(edge[\u001b[38;5;241m1\u001b[39m]))\n\u001b[1;32m---> 63\u001b[0m mst_edges \u001b[38;5;241m=\u001b[39m mst\u001b[38;5;241m.\u001b[39mkruskal_mst()\n\u001b[0;32m     64\u001b[0m \u001b[38;5;28mprint\u001b[39m(\u001b[38;5;124m\"\u001b[39m\u001b[38;5;124mEdges of the Minimum Spanning Tree:\u001b[39m\u001b[38;5;124m\"\u001b[39m)\n\u001b[0;32m     65\u001b[0m \u001b[38;5;28;01mfor\u001b[39;00m u, v, w \u001b[38;5;129;01min\u001b[39;00m mst_edges:\n",
      "Cell \u001b[1;32mIn[5], line 41\u001b[0m, in \u001b[0;36mDjikstraMST.kruskal_mst\u001b[1;34m(self)\u001b[0m\n\u001b[0;32m     38\u001b[0m     rank\u001b[38;5;241m.\u001b[39mappend(\u001b[38;5;241m0\u001b[39m)\n\u001b[0;32m     40\u001b[0m \u001b[38;5;28;01mwhile\u001b[39;00m e \u001b[38;5;241m<\u001b[39m \u001b[38;5;28mself\u001b[39m\u001b[38;5;241m.\u001b[39mV \u001b[38;5;241m-\u001b[39m \u001b[38;5;241m1\u001b[39m:\n\u001b[1;32m---> 41\u001b[0m     u, v, w \u001b[38;5;241m=\u001b[39m \u001b[38;5;28mself\u001b[39m\u001b[38;5;241m.\u001b[39mgraph[i]\n\u001b[0;32m     42\u001b[0m     i \u001b[38;5;241m=\u001b[39m i \u001b[38;5;241m+\u001b[39m \u001b[38;5;241m1\u001b[39m\n\u001b[0;32m     43\u001b[0m     x \u001b[38;5;241m=\u001b[39m \u001b[38;5;28mself\u001b[39m\u001b[38;5;241m.\u001b[39mfind_parent(parent, u)\n",
      "\u001b[1;31mIndexError\u001b[0m: list index out of range"
     ]
    }
   ],
   "source": [
    "import networkx as nx\n",
    "import matplotlib.pyplot as plt\n",
    "\n",
    "class DjikstraMST:\n",
    "    def __init__(self, vertices):\n",
    "        self.V = vertices\n",
    "        self.graph = []\n",
    "\n",
    "    def add_edge(self, u, v, w):\n",
    "        self.graph.append([u, v, w])\n",
    "\n",
    "    def find_parent(self, parent, i):\n",
    "        if parent[i] == i:\n",
    "            return i\n",
    "        return self.find_parent(parent, parent[i])\n",
    "\n",
    "    def union(self, parent, rank, x, y):\n",
    "        x_root = self.find_parent(parent, x)\n",
    "        y_root = self.find_parent(parent, y)\n",
    "\n",
    "        if rank[x_root] < rank[y_root]:\n",
    "            parent[x_root] = y_root\n",
    "        elif rank[x_root] > rank[y_root]:\n",
    "            parent[y_root] = x_root\n",
    "        else:\n",
    "            parent[y_root] = x_root\n",
    "            rank[x_root] += 1\n",
    "\n",
    "    def kruskal_mst(self):\n",
    "        result = []\n",
    "        i, e = 0, 0\n",
    "        self.graph = sorted(self.graph, key=lambda item: item[2])\n",
    "        parent = []\n",
    "        rank = []\n",
    "\n",
    "        for node in range(self.V):\n",
    "            parent.append(node)\n",
    "            rank.append(0)\n",
    "\n",
    "        while e < self.V - 1:\n",
    "            u, v, w = self.graph[i]\n",
    "            i = i + 1\n",
    "            x = self.find_parent(parent, u)\n",
    "            y = self.find_parent(parent, v)\n",
    "\n",
    "            if x != y:\n",
    "                e = e + 1\n",
    "                result.append([u, v, w])\n",
    "                self.union(parent, rank, x, y)\n",
    "\n",
    "        return result\n",
    "\n",
    "\n",
    "if __name__ == \"__main__\":\n",
    "    num_nodes = int(input(\"Enter number of nodes: \"))\n",
    "    mst = DjikstraMST(num_nodes)\n",
    "    for i in range(num_nodes):\n",
    "        num_edges = int(input(f\"Enter number of edges for node {i+1}: \"))\n",
    "        for j in range(num_edges):\n",
    "            edge = input(f\"Enter edge {j+1} for node {i+1}: \").split()\n",
    "            mst.add_edge(i, int(edge[0])-1, int(edge[1]))\n",
    "\n",
    "    mst_edges = mst.kruskal_mst()\n",
    "    print(\"Edges of the Minimum Spanning Tree:\")\n",
    "    for u, v, w in mst_edges:\n",
    "        print(f\"{u+1} -- {v+1} == {w}\")\n"
   ]
  },
  {
   "cell_type": "code",
   "execution_count": null,
   "id": "e16ea7bf",
   "metadata": {},
   "outputs": [],
   "source": []
  }
 ],
 "metadata": {
  "kernelspec": {
   "display_name": "Python 3 (ipykernel)",
   "language": "python",
   "name": "python3"
  },
  "language_info": {
   "codemirror_mode": {
    "name": "ipython",
    "version": 3
   },
   "file_extension": ".py",
   "mimetype": "text/x-python",
   "name": "python",
   "nbconvert_exporter": "python",
   "pygments_lexer": "ipython3",
   "version": "3.11.5"
  }
 },
 "nbformat": 4,
 "nbformat_minor": 5
}
