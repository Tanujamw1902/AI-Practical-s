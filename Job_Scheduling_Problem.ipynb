{
 "cells": [
  {
   "cell_type": "code",
   "execution_count": 2,
   "id": "772fe3f2",
   "metadata": {},
   "outputs": [
    {
     "name": "stdout",
     "output_type": "stream",
     "text": [
      "Enter number of jobs: 5\n",
      "Enter number of dependencies for job 1: 2\n",
      "Enter dependency 1 for job 1 (dependency weight): 2 5\n",
      "Enter dependency 2 for job 1 (dependency weight): 3 3\n",
      "Enter number of dependencies for job 2: 1\n",
      "Enter dependency 1 for job 2 (dependency weight): 4 2\n",
      "Enter number of dependencies for job 3: 1\n",
      "Enter dependency 1 for job 3 (dependency weight): 5 4\n",
      "Enter number of dependencies for job 4: 0\n",
      "Enter number of dependencies for job 5: 0\n",
      "Scheduled jobs:\n",
      "2 depends on 4 with weight 2\n",
      "1 depends on 3 with weight 3\n",
      "3 depends on 5 with weight 4\n",
      "1 depends on 2 with weight 5\n"
     ]
    },
    {
     "data": {
      "image/png": "[encoded data removed]",
      "text/plain": [
       "<Figure size 640x480 with 1 Axes>"
      ]
     },
     "metadata": {},
     "output_type": "display_data"
    }
   ],
   "source": [
    "import networkx as nx\n",
    "import matplotlib.pyplot as plt\n",
    "\n",
    "class JobScheduler:\n",
    "    def __init__(self, jobs):\n",
    "        self.jobs = jobs\n",
    "        self.graph = []\n",
    "\n",
    "    def add_dependency(self, u, v, w):\n",
    "        self.graph.append([u, v, w])\n",
    "\n",
    "    def find_parent(self, parent, i):\n",
    "        if parent[i] == i:\n",
    "            return i\n",
    "        return self.find_parent(parent, parent[i])\n",
    "\n",
    "    def union(self, parent, rank, x, y):\n",
    "        x_root = self.find_parent(parent, x)\n",
    "        y_root = self.find_parent(parent, y)\n",
    "\n",
    "        if rank[x_root] < rank[y_root]:\n",
    "            parent[x_root] = y_root\n",
    "        elif rank[x_root] > rank[y_root]:\n",
    "            parent[y_root] = x_root\n",
    "        else:\n",
    "            parent[y_root] = x_root\n",
    "            rank[x_root] += 1\n",
    "\n",
    "    def schedule_jobs(self):\n",
    "        result = []\n",
    "        self.graph = sorted(self.graph, key=lambda item: item[2])\n",
    "        parent = []\n",
    "        rank = []\n",
    "\n",
    "        for node in range(self.jobs):\n",
    "            parent.append(node)\n",
    "            rank.append(0)\n",
    "\n",
    "        for u, v, w in self.graph:\n",
    "            x = self.find_parent(parent, u)\n",
    "            y = self.find_parent(parent, v)\n",
    "\n",
    "            if x != y:\n",
    "                result.append([u, v, w])\n",
    "                self.union(parent, rank, x, y)\n",
    "\n",
    "        return result\n",
    "\n",
    "    def create_networkx_graph(self):\n",
    "        G = nx.DiGraph()\n",
    "        for u, v, w in self.graph:\n",
    "            G.add_edge(u + 1, v + 1, weight=w)\n",
    "        return G\n",
    "\n",
    "if __name__ == \"__main__\":\n",
    "    num_jobs = int(input(\"Enter number of jobs: \"))\n",
    "    scheduler = JobScheduler(num_jobs)\n",
    "    for i in range(num_jobs):\n",
    "        num_dependencies = int(input(f\"Enter number of dependencies for job {i+1}: \"))\n",
    "        for j in range(num_dependencies):\n",
    "            dependency = input(f\"Enter dependency {j+1} for job {i+1} (dependency weight): \").split()\n",
    "            scheduler.add_dependency(i, int(dependency[0])-1, int(dependency[1]))\n",
    "\n",
    "    scheduled_jobs = scheduler.schedule_jobs()\n",
    "    print(\"Scheduled jobs:\")\n",
    "    for u, v, w in scheduled_jobs:\n",
    "        print(f\"{u+1} depends on {v+1} with weight {w}\")\n",
    "\n",
    "    # Create NetworkX graph\n",
    "    G = scheduler.create_networkx_graph()\n",
    "\n",
    "    # Draw the graph\n",
    "    pos = nx.spring_layout(G)\n",
    "    nx.draw(G, pos, with_labels=True, node_size=700, node_color='skyblue', font_size=10, font_weight='bold', arrowsize=20)\n",
    "    edge_labels = nx.get_edge_attributes(G, 'weight')\n",
    "    nx.draw_networkx_edge_labels(G, pos, edge_labels=edge_labels)\n",
    "    plt.show()\n"
   ]
  },
  {
   "cell_type": "code",
   "execution_count": null,
   "id": "830af57a",
   "metadata": {},
   "outputs": [],
   "source": []
  }
 ],
 "metadata": {
  "kernelspec": {
   "display_name": "Python 3 (ipykernel)",
   "language": "python",
   "name": "python3"
  },
  "language_info": {
   "codemirror_mode": {
    "name": "ipython",
    "version": 3
   },
   "file_extension": ".py",
   "mimetype": "text/x-python",
   "name": "python",
   "nbconvert_exporter": "python",
   "pygments_lexer": "ipython3",
   "version": "3.11.5"
  }
 },
 "nbformat": 4,
 "nbformat_minor": 5
}
