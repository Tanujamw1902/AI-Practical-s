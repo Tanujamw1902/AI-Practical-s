{
 "cells": [
  {
   "cell_type": "code",
   "execution_count": 1,
   "id": "53a4d403",
   "metadata": {},
   "outputs": [
    {
     "name": "stdout",
     "output_type": "stream",
     "text": [
      "Welcome to the Stock Market Trading Expert System!\n",
      "Please provide the following information:\n",
      "Market trend (bullish, bearish, neutral): bullish\n",
      "Company performance (strong, weak, stable): strong\n",
      "Risk appetite (high, low, moderate): high\n",
      "\n",
      "Based on the provided information, the recommendation is to: Buy\n"
     ]
    }
   ],
   "source": [
    "# Importing necessary libraries\n",
    "import random\n",
    "\n",
    "# Function to simulate stock market trading decision\n",
    "def stock_trading_expert(input_data):\n",
    "    \"\"\"\n",
    "    This function simulates a simple expert system for stock market trading.\n",
    "    \n",
    "    Parameters:\n",
    "    input_data (dict): Dictionary containing user input data\n",
    "    \n",
    "    Returns:\n",
    "    str: Trading decision recommendation\n",
    "    \"\"\"\n",
    "    # Extracting input data\n",
    "    market_trend = input_data.get('market_trend', 'neutral')\n",
    "    company_performance = input_data.get('company_performance', 'stable')\n",
    "    risk_appetite = input_data.get('risk_appetite', 'low')\n",
    "    \n",
    "    # Decision making logic\n",
    "    if market_trend == 'bullish' and company_performance == 'strong' and risk_appetite == 'high':\n",
    "        return \"Buy\"\n",
    "    elif market_trend == 'bearish' and company_performance == 'weak' and risk_appetite == 'low':\n",
    "        return \"Sell\"\n",
    "    else:\n",
    "        return \"Hold\"\n",
    "\n",
    "# Main function to interact with the user\n",
    "def main():\n",
    "    print(\"Welcome to the Stock Market Trading Expert System!\")\n",
    "    print(\"Please provide the following information:\")\n",
    "    \n",
    "    # Getting input from the user\n",
    "    market_trend = input(\"Market trend (bullish, bearish, neutral): \").lower()\n",
    "    company_performance = input(\"Company performance (strong, weak, stable): \").lower()\n",
    "    risk_appetite = input(\"Risk appetite (high, low, moderate): \").lower()\n",
    "    \n",
    "    # Creating dictionary to hold user input\n",
    "    input_data = {\n",
    "        'market_trend': market_trend,\n",
    "        'company_performance': company_performance,\n",
    "        'risk_appetite': risk_appetite\n",
    "    }\n",
    "    \n",
    "    # Calling the expert system function\n",
    "    trading_decision = stock_trading_expert(input_data)\n",
    "    \n",
    "    # Displaying the trading decision\n",
    "    print(\"\\nBased on the provided information, the recommendation is to:\", trading_decision)\n",
    "\n",
    "# Calling the main function to start the program\n",
    "if __name__ == \"__main__\":\n",
    "    main()\n"
   ]
  },
  {
   "cell_type": "code",
   "execution_count": null,
   "id": "f82981c4",
   "metadata": {},
   "outputs": [],
   "source": []
  }
 ],
 "metadata": {
  "kernelspec": {
   "display_name": "Python 3 (ipykernel)",
   "language": "python",
   "name": "python3"
  },
  "language_info": {
   "codemirror_mode": {
    "name": "ipython",
    "version": 3
   },
   "file_extension": ".py",
   "mimetype": "text/x-python",
   "name": "python",
   "nbconvert_exporter": "python",
   "pygments_lexer": "ipython3",
   "version": "3.11.5"
  }
 },
 "nbformat": 4,
 "nbformat_minor": 5
}
