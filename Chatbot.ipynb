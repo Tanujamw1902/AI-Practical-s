{
 "cells": [
  {
   "cell_type": "code",
   "execution_count": null,
   "id": "0c39a2e4",
   "metadata": {},
   "outputs": [
    {
     "name": "stdout",
     "output_type": "stream",
     "text": [
      "Enter your message: \"Can I inquire about my order?\"\n",
      "I can help you with your order. What is your order number?\n",
      "Enter your message: \"I have questions about payment options.\"\n",
      "I can answer questions about payment options.\n",
      "Enter your message: \"How do I return an item?\"\n",
      "We offer a hassle-free return policy. Please tell me more about the item you want to return.\n",
      "Enter your message: \"I'm experiencing a bug. Can you help?\"\n",
      "I'm here to help you with technical issues. Can you describe the bug you're experiencing?\n",
      "Enter your message: \"What new features are you working on?\"\n",
      "We're constantly working on new features. What feature would you like to see?\n",
      "Enter your message: \"Is this software compatible with my device?\"\n",
      "I don't understand. Could you rephrase?\n"
     ]
    }
   ],
   "source": [
    "from collections import defaultdict\n",
    "\n",
    "# Define a Role class with its attributes\n",
    "class Role:\n",
    "    def __init__(self, name):\n",
    "        self.name = name\n",
    "        self.responses = defaultdict(str)  # Use defaultdict for easier response addition\n",
    "\n",
    "    # Add a response to the role\n",
    "    def add_response(self, keyword, response):\n",
    "        self.responses[keyword] = response\n",
    "\n",
    "\n",
    "# Function to simulate user interaction and handle role-based responses\n",
    "def interact(roles):\n",
    "    while True:\n",
    "        input_text = input(\"Enter your message: \")\n",
    "        if input_text.lower() == \"exit\":  # Allow user to exit with \"exit\"\n",
    "            break\n",
    "\n",
    "        # Find the best matching role based on keywords in the input\n",
    "        best_match_score = 0\n",
    "        best_match_role = None\n",
    "        for role in roles:\n",
    "            score = sum(keyword in input_text.lower() for keyword in role.responses.keys())\n",
    "            if score > best_match_score:\n",
    "                best_match_score = score\n",
    "                best_match_role = role\n",
    "\n",
    "        # Handle no matching role or keyword\n",
    "        if not best_match_role:\n",
    "            print(\"I don't understand. Could you rephrase?\")\n",
    "        else:\n",
    "            # Search for a keyword match within the best matching role\n",
    "            for keyword, response in best_match_role.responses.items():\n",
    "                if keyword in input_text.lower():\n",
    "                    print(response)\n",
    "                    break  # Exit the loop after finding a matching keyword\n",
    "            else:\n",
    "                print(\"I'm still learning. How can I help you?\")\n",
    "\n",
    "\n",
    "# Main execution block\n",
    "if __name__ == \"__main__\":\n",
    "    # Create roles and add responses\n",
    "    roles = []\n",
    "    customer_service = Role(\"Customer Service\")\n",
    "    customer_service.add_response(\"order\", \"I can help you with your order. What is your order number?\")\n",
    "    customer_service.add_response(\"payment\", \"I can answer questions about payment options.\")\n",
    "    customer_service.add_response(\"return\", \"We offer a hassle-free return policy. Please tell me more about the item you want to return.\")\n",
    "    roles.append(customer_service)\n",
    "\n",
    "    technical_support = Role(\"Technical Support\")\n",
    "    technical_support.add_response(\"bug\", \"I'm here to help you with technical issues. Can you describe the bug you're experiencing?\")\n",
    "    technical_support.add_response(\"feature\", \"We're constantly working on new features. What feature would you like to see?\")\n",
    "    technical_support.add_response(\"compatibility\", \"I can help you with compatibility issues. What device or system are you using?\")\n",
    "    roles.append(technical_support)\n",
    "\n",
    "    # Simulate user interaction\n",
    "    interact(roles)\n"
   ]
  },
  {
   "cell_type": "code",
   "execution_count": null,
   "id": "3e5cbb31",
   "metadata": {},
   "outputs": [],
   "source": []
  }
 ],
 "metadata": {
  "kernelspec": {
   "display_name": "Python 3 (ipykernel)",
   "language": "python",
   "name": "python3"
  },
  "language_info": {
   "codemirror_mode": {
    "name": "ipython",
    "version": 3
   },
   "file_extension": ".py",
   "mimetype": "text/x-python",
   "name": "python",
   "nbconvert_exporter": "python",
   "pygments_lexer": "ipython3",
   "version": "3.11.5"
  }
 },
 "nbformat": 4,
 "nbformat_minor": 5
}
