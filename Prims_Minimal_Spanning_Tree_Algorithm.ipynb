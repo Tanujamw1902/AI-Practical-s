{
 "cells": [
  {
   "cell_type": "code",
   "execution_count": 4,
   "id": "e589b37f",
   "metadata": {},
   "outputs": [
    {
     "name": "stdout",
     "output_type": "stream",
     "text": [
      "Enter the graph filename: prims_graph.txt\n",
      "Edge : Weight\n",
      "\n",
      "1-2:1\n",
      "1-5:3\n",
      "5-4:2\n",
      "5-3:4\n"
     ]
    }
   ],
   "source": [
    "import networkx as nx\n",
    "\n",
    "def ip_graph(gr_n): \n",
    "    raw = open(gr_n, 'r') \n",
    "    graph = raw.read().splitlines() \n",
    "    raw.close() \n",
    "    \n",
    "    N = len(graph) \n",
    "    graph = [list(map(int, row.split())) for row in graph]\n",
    "    \n",
    "    G = nx.Graph()\n",
    "    for i in range(N):\n",
    "        for j in range(N):\n",
    "            if graph[i][j]:\n",
    "                G.add_edge(i + 1, j + 1, weight=graph[i][j])\n",
    "    \n",
    "    return N, G\n",
    "\n",
    "def prims(N, G, selected_node, no_edge):\n",
    "    print(\"Edge : Weight\\n\")\n",
    "    while no_edge < N - 1: \n",
    "        minimum = float('inf') \n",
    "        a = 0\n",
    "        b = 0\n",
    "        for m in range(N):\n",
    "            if selected_node[m]:\n",
    "                for n in range(N):\n",
    "                    if not selected_node[n] and G.has_edge(m + 1, n + 1):\n",
    "                        if minimum > G[m + 1][n + 1]['weight']:\n",
    "                            minimum = G[m + 1][n + 1]['weight']\n",
    "                            a = m\n",
    "                            b = n\n",
    "        print(str(a + 1) + \"-\" + str(b + 1) + \":\" + str(G[a + 1][b + 1]['weight']))\n",
    "        selected_node[b] = True \n",
    "        no_edge += 1\n",
    "\n",
    "gr_n = input('Enter the graph filename: ')\n",
    "\n",
    "no_edge = 0 \n",
    "N, G = ip_graph(gr_n) \n",
    "\n",
    "selected_node = [False] * N \n",
    "selected_node[0] = True\n",
    "\n",
    "prims(N, G, selected_node, no_edge) \n"
   ]
  },
  {
   "cell_type": "code",
   "execution_count": null,
   "id": "9b2a6106",
   "metadata": {},
   "outputs": [],
   "source": []
  }
 ],
 "metadata": {
  "kernelspec": {
   "display_name": "Python 3 (ipykernel)",
   "language": "python",
   "name": "python3"
  },
  "language_info": {
   "codemirror_mode": {
    "name": "ipython",
    "version": 3
   },
   "file_extension": ".py",
   "mimetype": "text/x-python",
   "name": "python",
   "nbconvert_exporter": "python",
   "pygments_lexer": "ipython3",
   "version": "3.11.5"
  }
 },
 "nbformat": 4,
 "nbformat_minor": 5
}
